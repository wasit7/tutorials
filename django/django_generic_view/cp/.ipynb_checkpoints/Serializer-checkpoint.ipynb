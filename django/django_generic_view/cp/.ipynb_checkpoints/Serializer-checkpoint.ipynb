{
 "cells": [
  {
   "cell_type": "code",
   "execution_count": 1,
   "metadata": {
    "collapsed": true
   },
   "outputs": [],
   "source": [
    "import rest_framework"
   ]
  },
  {
   "cell_type": "code",
   "execution_count": 2,
   "metadata": {
    "collapsed": false
   },
   "outputs": [
    {
     "data": {
      "text/plain": [
       "'3.3.3'"
      ]
     },
     "execution_count": 2,
     "metadata": {},
     "output_type": "execute_result"
    }
   ],
   "source": [
    "rest_framework.__version__"
   ]
  },
  {
   "cell_type": "code",
   "execution_count": 1,
   "metadata": {
    "collapsed": true
   },
   "outputs": [],
   "source": [
    "t=Table()"
   ]
  },
  {
   "cell_type": "code",
   "execution_count": 8,
   "metadata": {
    "collapsed": false
   },
   "outputs": [],
   "source": [
    "c=Chair()\n",
    "c.save()\n",
    "\n",
    "t.BigIntegerField=123\n",
    "t.BooleanField=True\n",
    "t.CharField='Hello'\n",
    "t.x=1.23\n",
    "t.y=2.34\n",
    "t.ForeignKey=c\n",
    "t.save()"
   ]
  },
  {
   "cell_type": "code",
   "execution_count": 12,
   "metadata": {
    "collapsed": true
   },
   "outputs": [],
   "source": [
    "from myapp.models import TableSerializer\n",
    "from rest_framework.renderers import JSONRenderer\n",
    "from rest_framework.parsers import JSONParser"
   ]
  },
  {
   "cell_type": "code",
   "execution_count": 10,
   "metadata": {
    "collapsed": true
   },
   "outputs": [],
   "source": [
    "ts=TableSerializer(t)"
   ]
  },
  {
   "cell_type": "code",
   "execution_count": 15,
   "metadata": {
    "collapsed": false
   },
   "outputs": [
    {
     "name": "stdout",
     "output_type": "stream",
     "text": [
      "{\"id\":6,\"BigIntegerField\":123,\"BooleanField\":true,\"CharField\":\"Hello\",\"DateField\":null,\"DateTimeField\":null,\"DecimalField\":null,\"EmailField\":null,\"FileField\":null,\"FilePathField\":null,\"FloatField\":null,\"ImageField\":null,\"IntegerField\":null,\"GenericIPAddressField\":null,\"NullBooleanField\":null,\"PositiveIntegerField\":null,\"PositiveSmallIntegerField\":null,\"SlugField\":null,\"SmallIntegerField\":null,\"TextField\":null,\"TimeField\":null,\"URLField\":null,\"x\":\"1.23\",\"y\":\"2.34\",\"ForeignKey\":1}\n"
     ]
    }
   ],
   "source": [
    "json=JSONRenderer().render(ts.data)\n",
    "print json"
   ]
  },
  {
   "cell_type": "code",
   "execution_count": 22,
   "metadata": {
    "collapsed": true
   },
   "outputs": [],
   "source": [
    "from django.utils.six import BytesIO\n",
    "\n",
    "stream = BytesIO(json)\n",
    "data = JSONParser().parse(stream)"
   ]
  },
  {
   "cell_type": "code",
   "execution_count": 23,
   "metadata": {
    "collapsed": false
   },
   "outputs": [
    {
     "data": {
      "text/plain": [
       "{u'BigIntegerField': 123,\n",
       " u'BooleanField': True,\n",
       " u'CharField': u'Hello',\n",
       " u'DateField': None,\n",
       " u'DateTimeField': None,\n",
       " u'DecimalField': None,\n",
       " u'EmailField': None,\n",
       " u'FileField': None,\n",
       " u'FilePathField': None,\n",
       " u'FloatField': None,\n",
       " u'ForeignKey': 1,\n",
       " u'GenericIPAddressField': None,\n",
       " u'ImageField': None,\n",
       " u'IntegerField': None,\n",
       " u'NullBooleanField': None,\n",
       " u'PositiveIntegerField': None,\n",
       " u'PositiveSmallIntegerField': None,\n",
       " u'SlugField': None,\n",
       " u'SmallIntegerField': None,\n",
       " u'TextField': None,\n",
       " u'TimeField': None,\n",
       " u'URLField': None,\n",
       " u'id': 6,\n",
       " u'x': u'1.23',\n",
       " u'y': u'2.34'}"
      ]
     },
     "execution_count": 23,
     "metadata": {},
     "output_type": "execute_result"
    }
   ],
   "source": [
    "data"
   ]
  },
  {
   "cell_type": "code",
   "execution_count": null,
   "metadata": {
    "collapsed": true
   },
   "outputs": [],
   "source": []
  }
 ],
 "metadata": {
  "anaconda-cloud": {},
  "kernelspec": {
   "display_name": "Python [default]",
   "language": "python",
   "name": "python2"
  },
  "language_info": {
   "codemirror_mode": {
    "name": "ipython",
    "version": 2
   },
   "file_extension": ".py",
   "mimetype": "text/x-python",
   "name": "python",
   "nbconvert_exporter": "python",
   "pygments_lexer": "ipython2",
   "version": "2.7.12"
  }
 },
 "nbformat": 4,
 "nbformat_minor": 1
}
