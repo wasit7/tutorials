{
 "cells": [
  {
   "cell_type": "code",
   "execution_count": 1,
   "metadata": {
    "collapsed": false
   },
   "outputs": [],
   "source": [
    "from django.forms import modelform_factory\n",
    "from django.forms import Textarea"
   ]
  },
  {
   "cell_type": "code",
   "execution_count": 28,
   "metadata": {
    "collapsed": false
   },
   "outputs": [],
   "source": [
    "m=modelform_factory(Car,exclude=([]), widgets={\n",
    "        \"BigIntegerField\": Textarea(attrs={ 'class': 'form-control' })\n",
    "    } )"
   ]
  },
  {
   "cell_type": "code",
   "execution_count": 29,
   "metadata": {
    "collapsed": false
   },
   "outputs": [
    {
     "name": "stdout",
     "output_type": "stream",
     "text": [
      "<textarea class=\"form-control\" cols=\"40\" id=\"id_BigIntegerField\" name=\"BigIntegerField\" rows=\"10\">\r\n",
      "</textarea>\n",
      "__________\n",
      "<input checked=\"checked\" id=\"id_BooleanField\" name=\"BooleanField\" type=\"checkbox\" />\n",
      "__________\n",
      "<input id=\"id_CharField\" maxlength=\"10\" name=\"CharField\" type=\"text\" />\n",
      "__________\n",
      "<input id=\"id_DateField\" name=\"DateField\" type=\"text\" />\n",
      "__________\n",
      "<input id=\"id_DateTimeField\" name=\"DateTimeField\" type=\"text\" />\n",
      "__________\n",
      "<input id=\"id_DecimalField\" name=\"DecimalField\" step=\"0.01\" type=\"number\" />\n",
      "__________\n",
      "<input id=\"id_EmailField\" maxlength=\"254\" name=\"EmailField\" type=\"email\" />\n",
      "__________\n",
      "<input id=\"id_FileField\" name=\"FileField\" type=\"file\" />\n",
      "__________\n",
      "<select id=\"id_FilePathField\" name=\"FilePathField\">\n",
      "<option value=\"\" selected=\"selected\">---------</option>\n",
      "</select>\n",
      "__________\n",
      "<input id=\"id_FloatField\" name=\"FloatField\" step=\"any\" type=\"number\" />\n",
      "__________\n",
      "<select id=\"id_ForeignKey\" name=\"ForeignKey\">\n",
      "<option value=\"\" selected=\"selected\">---------</option>\n",
      "<option value=\"1\">customer1</option>\n",
      "<option value=\"2\">customer2</option>\n",
      "<option value=\"3\">1</option>\n",
      "<option value=\"4\">2</option>\n",
      "<option value=\"5\">3</option>\n",
      "<option value=\"6\">4</option>\n",
      "<option value=\"7\">5</option>\n",
      "<option value=\"8\">6</option>\n",
      "<option value=\"9\">7</option>\n",
      "<option value=\"10\">8</option>\n",
      "<option value=\"11\">9</option>\n",
      "</select>\n",
      "__________\n",
      "<input id=\"id_ImageField\" name=\"ImageField\" type=\"file\" />\n",
      "__________\n",
      "<input id=\"id_IntegerField\" name=\"IntegerField\" type=\"number\" />\n",
      "__________\n",
      "<input id=\"id_GenericIPAddressField\" name=\"GenericIPAddressField\" type=\"text\" />\n",
      "__________\n",
      "<select id=\"id_NullBooleanField\" name=\"NullBooleanField\">\n",
      "<option value=\"1\" selected=\"selected\">Unknown</option>\n",
      "<option value=\"2\">Yes</option>\n",
      "<option value=\"3\">No</option>\n",
      "</select>\n",
      "__________\n",
      "<input id=\"id_PositiveIntegerField\" min=\"0\" name=\"PositiveIntegerField\" type=\"number\" />\n",
      "__________\n",
      "<input id=\"id_PositiveSmallIntegerField\" min=\"0\" name=\"PositiveSmallIntegerField\" type=\"number\" />\n",
      "__________\n",
      "<input id=\"id_SlugField\" maxlength=\"50\" name=\"SlugField\" type=\"text\" />\n",
      "__________\n",
      "<input id=\"id_SmallIntegerField\" name=\"SmallIntegerField\" type=\"number\" />\n",
      "__________\n",
      "<textarea cols=\"40\" id=\"id_TextField\" name=\"TextField\" rows=\"10\">\r\n",
      "</textarea>\n",
      "__________\n",
      "<input id=\"id_TimeField\" name=\"TimeField\" type=\"text\" />\n",
      "__________\n",
      "<input id=\"id_URLField\" maxlength=\"200\" name=\"URLField\" type=\"url\" />\n",
      "__________\n",
      "<input id=\"id_x\" name=\"x\" step=\"0.01\" type=\"number\" required />\n",
      "__________\n",
      "<input id=\"id_y\" name=\"y\" step=\"0.01\" type=\"number\" required />\n",
      "__________\n"
     ]
    }
   ],
   "source": [
    "for i in m():\n",
    "    print i\n",
    "    print \"__________\""
   ]
  },
  {
   "cell_type": "code",
   "execution_count": 46,
   "metadata": {
    "collapsed": false
   },
   "outputs": [
    {
     "data": {
      "text/plain": [
       "3"
      ]
     },
     "execution_count": 46,
     "metadata": {},
     "output_type": "execute_result"
    }
   ],
   "source": [
    "Car._meta.get_field('x').max_digits"
   ]
  },
  {
   "cell_type": "code",
   "execution_count": 59,
   "metadata": {
    "collapsed": false
   },
   "outputs": [
    {
     "data": {
      "text/plain": [
       "{'class': 'form-control', u'cols': u'40', u'rows': u'10'}"
      ]
     },
     "execution_count": 59,
     "metadata": {},
     "output_type": "execute_result"
    }
   ],
   "source": [
    "m._meta.widgets['BigIntegerField'].attrs"
   ]
  },
  {
   "cell_type": "code",
   "execution_count": 71,
   "metadata": {
    "collapsed": false
   },
   "outputs": [],
   "source": [
    "x=m.base_fields['x']"
   ]
  },
  {
   "cell_type": "code",
   "execution_count": 72,
   "metadata": {
    "collapsed": false
   },
   "outputs": [
    {
     "data": {
      "text/plain": [
       "2"
      ]
     },
     "execution_count": 72,
     "metadata": {},
     "output_type": "execute_result"
    }
   ],
   "source": [
    "x.decimal_places"
   ]
  },
  {
   "cell_type": "code",
   "execution_count": 78,
   "metadata": {
    "collapsed": false
   },
   "outputs": [],
   "source": [
    "x.widget.attrs['class']=\"form-group\""
   ]
  },
  {
   "cell_type": "code",
   "execution_count": 80,
   "metadata": {
    "collapsed": false
   },
   "outputs": [
    {
     "data": {
      "text/plain": [
       "{'class': 'form-group', u'step': '0.01'}"
      ]
     },
     "execution_count": 80,
     "metadata": {},
     "output_type": "execute_result"
    }
   ],
   "source": [
    "x.widget.attrs"
   ]
  },
  {
   "cell_type": "code",
   "execution_count": 81,
   "metadata": {
    "collapsed": false
   },
   "outputs": [
    {
     "name": "stdout",
     "output_type": "stream",
     "text": [
      "<textarea class=\"form-control\" cols=\"40\" id=\"id_BigIntegerField\" name=\"BigIntegerField\" rows=\"10\">\r\n",
      "</textarea>\n",
      "__________\n",
      "<input checked=\"checked\" id=\"id_BooleanField\" name=\"BooleanField\" type=\"checkbox\" />\n",
      "__________\n",
      "<input id=\"id_CharField\" maxlength=\"10\" name=\"CharField\" type=\"text\" />\n",
      "__________\n",
      "<input id=\"id_DateField\" name=\"DateField\" type=\"text\" />\n",
      "__________\n",
      "<input id=\"id_DateTimeField\" name=\"DateTimeField\" type=\"text\" />\n",
      "__________\n",
      "<input id=\"id_DecimalField\" name=\"DecimalField\" step=\"0.01\" type=\"number\" />\n",
      "__________\n",
      "<input id=\"id_EmailField\" maxlength=\"254\" name=\"EmailField\" type=\"email\" />\n",
      "__________\n",
      "<input id=\"id_FileField\" name=\"FileField\" type=\"file\" />\n",
      "__________\n",
      "<select id=\"id_FilePathField\" name=\"FilePathField\">\n",
      "<option value=\"\" selected=\"selected\">---------</option>\n",
      "</select>\n",
      "__________\n",
      "<input id=\"id_FloatField\" name=\"FloatField\" step=\"any\" type=\"number\" />\n",
      "__________\n",
      "<select id=\"id_ForeignKey\" name=\"ForeignKey\">\n",
      "<option value=\"\" selected=\"selected\">---------</option>\n",
      "<option value=\"1\">customer1</option>\n",
      "<option value=\"2\">customer2</option>\n",
      "<option value=\"3\">1</option>\n",
      "<option value=\"4\">2</option>\n",
      "<option value=\"5\">3</option>\n",
      "<option value=\"6\">4</option>\n",
      "<option value=\"7\">5</option>\n",
      "<option value=\"8\">6</option>\n",
      "<option value=\"9\">7</option>\n",
      "<option value=\"10\">8</option>\n",
      "<option value=\"11\">9</option>\n",
      "</select>\n",
      "__________\n",
      "<input id=\"id_ImageField\" name=\"ImageField\" type=\"file\" />\n",
      "__________\n",
      "<input id=\"id_IntegerField\" name=\"IntegerField\" type=\"number\" />\n",
      "__________\n",
      "<input id=\"id_GenericIPAddressField\" name=\"GenericIPAddressField\" type=\"text\" />\n",
      "__________\n",
      "<select id=\"id_NullBooleanField\" name=\"NullBooleanField\">\n",
      "<option value=\"1\" selected=\"selected\">Unknown</option>\n",
      "<option value=\"2\">Yes</option>\n",
      "<option value=\"3\">No</option>\n",
      "</select>\n",
      "__________\n",
      "<input id=\"id_PositiveIntegerField\" min=\"0\" name=\"PositiveIntegerField\" type=\"number\" />\n",
      "__________\n",
      "<input id=\"id_PositiveSmallIntegerField\" min=\"0\" name=\"PositiveSmallIntegerField\" type=\"number\" />\n",
      "__________\n",
      "<input id=\"id_SlugField\" maxlength=\"50\" name=\"SlugField\" type=\"text\" />\n",
      "__________\n",
      "<input id=\"id_SmallIntegerField\" name=\"SmallIntegerField\" type=\"number\" />\n",
      "__________\n",
      "<textarea cols=\"40\" id=\"id_TextField\" name=\"TextField\" rows=\"10\">\r\n",
      "</textarea>\n",
      "__________\n",
      "<input id=\"id_TimeField\" name=\"TimeField\" type=\"text\" />\n",
      "__________\n",
      "<input id=\"id_URLField\" maxlength=\"200\" name=\"URLField\" type=\"url\" />\n",
      "__________\n",
      "<input class=\"form-group\" id=\"id_x\" name=\"x\" step=\"0.01\" type=\"number\" required />\n",
      "__________\n",
      "<input id=\"id_y\" name=\"y\" step=\"0.01\" type=\"number\" required />\n",
      "__________\n"
     ]
    }
   ],
   "source": [
    "for i in m():\n",
    "    print i\n",
    "    print \"__________\""
   ]
  },
  {
   "cell_type": "code",
   "execution_count": 86,
   "metadata": {
    "collapsed": false
   },
   "outputs": [
    {
     "name": "stdout",
     "output_type": "stream",
     "text": [
      "BigIntegerField\n",
      "  {u'rows': u'10', u'cols': u'40', 'class': 'form-group'}\n",
      "BooleanField\n",
      "  {'class': 'form-group'}\n",
      "CharField\n",
      "  {'class': 'form-group', u'maxlength': '10'}\n",
      "DateField\n",
      "  {'class': 'form-group'}\n",
      "DateTimeField\n",
      "  {'class': 'form-group'}\n",
      "DecimalField\n",
      "  {u'step': '0.01', 'class': 'form-group'}\n",
      "EmailField\n",
      "  {'class': 'form-group', u'maxlength': '254'}\n",
      "FileField\n",
      "  {'class': 'form-group'}\n",
      "FilePathField\n",
      "  {'class': 'form-group'}\n",
      "FloatField\n",
      "  {u'step': u'any', 'class': 'form-group'}\n",
      "ForeignKey\n",
      "  {'class': 'form-group'}\n",
      "ImageField\n",
      "  {'class': 'form-group'}\n",
      "IntegerField\n",
      "  {'class': 'form-group'}\n",
      "GenericIPAddressField\n",
      "  {'class': 'form-group'}\n",
      "NullBooleanField\n",
      "  {'class': 'form-group'}\n",
      "PositiveIntegerField\n",
      "  {'class': 'form-group', u'min': 0}\n",
      "PositiveSmallIntegerField\n",
      "  {'class': 'form-group', u'min': 0}\n",
      "SlugField\n",
      "  {'class': 'form-group', u'maxlength': '50'}\n",
      "SmallIntegerField\n",
      "  {'class': 'form-group'}\n",
      "TextField\n",
      "  {u'rows': u'10', u'cols': u'40', 'class': 'form-group'}\n",
      "TimeField\n",
      "  {'class': 'form-group'}\n",
      "URLField\n",
      "  {'class': 'form-group', u'maxlength': '200'}\n",
      "x\n",
      "  {u'step': '0.01', 'class': 'form-group'}\n",
      "y\n",
      "  {u'step': '0.01', 'class': 'form-group'}\n"
     ]
    }
   ],
   "source": [
    "for i in m.base_fields:\n",
    "    print i \n",
    "    m.base_fields[i].widget.attrs['class']=\"form-group\"\n",
    "    print \"  %s\"%m.base_fields[i].widget.attrs"
   ]
  },
  {
   "cell_type": "code",
   "execution_count": null,
   "metadata": {
    "collapsed": true
   },
   "outputs": [],
   "source": [
    "for i in m.base_fields:\n",
    "    print i \n",
    "    print \"  %s\"%m.base_fields[i].widget.attrs"
   ]
  }
 ],
 "metadata": {
  "anaconda-cloud": {},
  "kernelspec": {
   "display_name": "Python [default]",
   "language": "python",
   "name": "python2"
  },
  "language_info": {
   "codemirror_mode": {
    "name": "ipython",
    "version": 2
   },
   "file_extension": ".py",
   "mimetype": "text/x-python",
   "name": "python",
   "nbconvert_exporter": "python",
   "pygments_lexer": "ipython2",
   "version": "2.7.12"
  }
 },
 "nbformat": 4,
 "nbformat_minor": 1
}
