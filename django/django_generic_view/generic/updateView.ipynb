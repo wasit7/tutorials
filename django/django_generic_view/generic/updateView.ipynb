{
 "cells": [
  {
   "cell_type": "code",
   "execution_count": 2,
   "metadata": {
    "collapsed": false
   },
   "outputs": [],
   "source": [
    "from myapp.views import CarUpdateView"
   ]
  },
  {
   "cell_type": "code",
   "execution_count": 3,
   "metadata": {
    "collapsed": true
   },
   "outputs": [],
   "source": [
    "c=CarUpdateView"
   ]
  },
  {
   "cell_type": "code",
   "execution_count": 5,
   "metadata": {
    "collapsed": false
   },
   "outputs": [
    {
     "data": {
      "text/plain": [
       "['__class__',\n",
       " '__delattr__',\n",
       " '__dict__',\n",
       " '__doc__',\n",
       " '__format__',\n",
       " '__getattribute__',\n",
       " '__hash__',\n",
       " '__init__',\n",
       " '__module__',\n",
       " '__new__',\n",
       " '__reduce__',\n",
       " '__reduce_ex__',\n",
       " '__repr__',\n",
       " '__setattr__',\n",
       " '__sizeof__',\n",
       " '__str__',\n",
       " '__subclasshook__',\n",
       " '__weakref__',\n",
       " '_allowed_methods',\n",
       " 'as_view',\n",
       " 'content_type',\n",
       " 'context_object_name',\n",
       " 'dispatch',\n",
       " 'fields',\n",
       " 'form_class',\n",
       " 'form_invalid',\n",
       " 'form_valid',\n",
       " 'get',\n",
       " 'get_context_data',\n",
       " 'get_context_object_name',\n",
       " 'get_form',\n",
       " 'get_form_class',\n",
       " 'get_form_kwargs',\n",
       " 'get_initial',\n",
       " 'get_object',\n",
       " 'get_prefix',\n",
       " 'get_queryset',\n",
       " 'get_slug_field',\n",
       " 'get_success_url',\n",
       " 'get_template_names',\n",
       " 'http_method_names',\n",
       " 'http_method_not_allowed',\n",
       " 'initial',\n",
       " 'model',\n",
       " 'options',\n",
       " 'pk_url_kwarg',\n",
       " 'post',\n",
       " 'prefix',\n",
       " 'put',\n",
       " 'query_pk_and_slug',\n",
       " 'queryset',\n",
       " 'render_to_response',\n",
       " 'response_class',\n",
       " 'slug_field',\n",
       " 'slug_url_kwarg',\n",
       " 'success_url',\n",
       " 'template_engine',\n",
       " 'template_name',\n",
       " 'template_name_field',\n",
       " 'template_name_suffix']"
      ]
     },
     "execution_count": 5,
     "metadata": {},
     "output_type": "execute_result"
    }
   ],
   "source": [
    "dir(c)"
   ]
  },
  {
   "cell_type": "code",
   "execution_count": null,
   "metadata": {
    "collapsed": true
   },
   "outputs": [],
   "source": []
  }
 ],
 "metadata": {
  "anaconda-cloud": {},
  "kernelspec": {
   "display_name": "Django Shell-Plus",
   "language": "python",
   "name": "python2"
  },
  "language_info": {
   "codemirror_mode": {
    "name": "ipython",
    "version": 2
   },
   "file_extension": ".py",
   "mimetype": "text/x-python",
   "name": "python",
   "nbconvert_exporter": "python",
   "pygments_lexer": "ipython2",
   "version": "2.7.12"
  }
 },
 "nbformat": 4,
 "nbformat_minor": 1
}
