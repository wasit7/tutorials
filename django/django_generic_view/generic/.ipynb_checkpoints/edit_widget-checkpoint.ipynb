{
 "cells": [
  {
   "cell_type": "code",
   "execution_count": 4,
   "metadata": {
    "collapsed": false
   },
   "outputs": [],
   "source": [
    "from django.forms import modelform_factory"
   ]
  },
  {
   "cell_type": "code",
   "execution_count": 6,
   "metadata": {
    "collapsed": true
   },
   "outputs": [],
   "source": [
    "m=modelform_factory(Car,exclude=([]), widgets={\"BigIntegerField\": Textarea()} )"
   ]
  },
  {
   "cell_type": "code",
   "execution_count": 8,
   "metadata": {
    "collapsed": false
   },
   "outputs": [
    {
     "data": {
      "text/plain": [
       "[u'Meta',\n",
       " '__class__',\n",
       " '__delattr__',\n",
       " '__dict__',\n",
       " '__doc__',\n",
       " '__format__',\n",
       " '__getattribute__',\n",
       " '__getitem__',\n",
       " '__hash__',\n",
       " '__html__',\n",
       " '__init__',\n",
       " '__iter__',\n",
       " '__module__',\n",
       " '__new__',\n",
       " '__reduce__',\n",
       " '__reduce_ex__',\n",
       " '__repr__',\n",
       " '__setattr__',\n",
       " '__sizeof__',\n",
       " '__str__',\n",
       " '__subclasshook__',\n",
       " '__unicode__',\n",
       " '__weakref__',\n",
       " '_clean_fields',\n",
       " '_clean_form',\n",
       " '_get_validation_exclusions',\n",
       " '_html_output',\n",
       " '_meta',\n",
       " '_post_clean',\n",
       " '_save_m2m',\n",
       " '_update_errors',\n",
       " 'add_error',\n",
       " 'add_initial_prefix',\n",
       " 'add_prefix',\n",
       " 'as_p',\n",
       " 'as_table',\n",
       " 'as_ul',\n",
       " 'base_fields',\n",
       " 'changed_data',\n",
       " 'clean',\n",
       " u'declared_fields',\n",
       " 'errors',\n",
       " 'field_order',\n",
       " 'full_clean',\n",
       " 'has_changed',\n",
       " 'has_error',\n",
       " 'hidden_fields',\n",
       " 'is_multipart',\n",
       " 'is_valid',\n",
       " 'media',\n",
       " 'non_field_errors',\n",
       " 'order_fields',\n",
       " 'prefix',\n",
       " 'save',\n",
       " 'use_required_attribute',\n",
       " 'validate_unique',\n",
       " 'visible_fields']"
      ]
     },
     "execution_count": 8,
     "metadata": {},
     "output_type": "execute_result"
    }
   ],
   "source": [
    "dir(m)"
   ]
  },
  {
   "cell_type": "code",
   "execution_count": null,
   "metadata": {
    "collapsed": true
   },
   "outputs": [],
   "source": []
  }
 ],
 "metadata": {
  "anaconda-cloud": {},
  "kernelspec": {
   "display_name": "Django Shell-Plus",
   "language": "python",
   "name": "python2"
  },
  "language_info": {
   "codemirror_mode": {
    "name": "ipython",
    "version": 2
   },
   "file_extension": ".py",
   "mimetype": "text/x-python",
   "name": "python",
   "nbconvert_exporter": "python",
   "pygments_lexer": "ipython2",
   "version": "2.7.12"
  }
 },
 "nbformat": 4,
 "nbformat_minor": 1
}
