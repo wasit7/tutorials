{
 "cells": [
  {
   "cell_type": "code",
   "execution_count": 2,
   "metadata": {
    "collapsed": false
   },
   "outputs": [
    {
     "name": "stdout",
     "output_type": "stream",
     "text": [
      "cd C:\\Users\\Wasit\\Desktop\\testModel\\myproject\n",
      "cd C:\\Users\\Wasit\\Desktop\\testModel\\myproject\\myapp\\migrations\n",
      "removing C:\\Users\\Wasit\\Desktop\\testModel\\myproject\\myapp\\migrations\\0001_initial.py\n",
      "removing C:\\Users\\Wasit\\Desktop\\testModel\\myproject\\myapp\\migrations\\0001_initial.pyc\n",
      "removing C:\\Users\\Wasit\\Desktop\\testModel\\myproject\\myapp\\migrations\\0002_auto_20161118_1630.py\n",
      "removing C:\\Users\\Wasit\\Desktop\\testModel\\myproject\\myapp\\migrations\\__init__.pyc\n"
     ]
    }
   ],
   "source": [
    "import fnmatch\n",
    "import os\n",
    "ROOT_PATH=os.path.abspath('.')\n",
    "APP_NAME='myapp'\n",
    "cd=ROOT_PATH\n",
    "print \"cd %s\"%cd\n",
    "for f in os.listdir(cd):\n",
    "    if fnmatch.fnmatch(f, '*.sqlite3'):\n",
    "        print \"removing %s\"%(os.path.join(ROOT_PATH,f))\n",
    "        os.remove(os.path.join(cd,f))\n",
    "\n",
    "cd=os.path.join(ROOT_PATH,APP_NAME,\"migrations\")\n",
    "print \"cd %s\"%cd\n",
    "for f in os.listdir(cd):\n",
    "    if fnmatch.fnmatch(f, '*.pyc'):\n",
    "        print \"removing %s\"%(os.path.join(cd,f))\n",
    "        os.remove(os.path.join(cd,f))\n",
    "    elif fnmatch.fnmatch(f, '0*.py'):\n",
    "        print \"removing %s\"%(os.path.join(cd,f))\n",
    "        os.remove(os.path.join(cd,f))"
   ]
  },
  {
   "cell_type": "code",
   "execution_count": 3,
   "metadata": {
    "collapsed": false
   },
   "outputs": [
    {
     "name": "stdout",
     "output_type": "stream",
     "text": [
      "Migrations for 'myapp':\n",
      "  myapp\\migrations\\0001_initial.py:\n",
      "    - Create model Address\n",
      "    - Create model Customer\n",
      "    - Add field customer to address\n",
      "\n",
      "Operations to perform:\n",
      "  Apply all migrations: admin, auth, contenttypes, myapp, sessions\n",
      "Running migrations:\n",
      "  Applying contenttypes.0001_initial... OK\n",
      "  Applying auth.0001_initial... OK\n",
      "  Applying admin.0001_initial... OK\n",
      "  Applying admin.0002_logentry_remove_auto_add... OK\n",
      "  Applying contenttypes.0002_remove_content_type_name... OK\n",
      "  Applying auth.0002_alter_permission_name_max_length... OK\n",
      "  Applying auth.0003_alter_user_email_max_length... OK\n",
      "  Applying auth.0004_alter_user_username_opts... OK\n",
      "  Applying auth.0005_alter_user_last_login_null... OK\n",
      "  Applying auth.0006_require_contenttypes_0002... OK\n",
      "  Applying auth.0007_alter_validators_add_error_messages... OK\n",
      "  Applying auth.0008_alter_user_username_max_length... OK\n",
      "  Applying myapp.0001_initial... OK\n",
      "  Applying sessions.0001_initial... OK\n",
      "\n"
     ]
    }
   ],
   "source": [
    "import os\n",
    "import sys\n",
    "import subprocess\n",
    "manage = os.path.join(ROOT_PATH , \"manage.py\")\n",
    "print subprocess.check_output([sys.executable, manage, \"makemigrations\",\"--noinput\"])\n",
    "print subprocess.check_output([sys.executable, manage, \"migrate\",\"--noinput\"])"
   ]
  },
  {
   "cell_type": "code",
   "execution_count": 4,
   "metadata": {
    "collapsed": false
   },
   "outputs": [
    {
     "data": {
      "text/plain": [
       "True"
      ]
     },
     "execution_count": 4,
     "metadata": {},
     "output_type": "execute_result"
    }
   ],
   "source": [
    "import pydot\n",
    "import time\n",
    "timestr = time.strftime(\"%y%m%d_%H%M%S\")\n",
    "\n",
    "dotstr=subprocess.check_output([sys.executable, manage, \"graph_models\", \"-a\"])\n",
    "#with  open(\"models.dot\",\"w\") as f:\n",
    "#    f.write(dotstr)\n",
    "#(graph,) = pydot.graph_from_dot_file('models.dot')\n",
    "(graph,) = pydot.graph_from_dot_data(dotstr)\n",
    "graph.write_png(timestr + '.png')"
   ]
  },
  {
   "cell_type": "code",
   "execution_count": 5,
   "metadata": {
    "collapsed": false
   },
   "outputs": [
    {
     "data": {
      "text/markdown": [
       "<img src=\"161118_163236.png\",width=60,height=60>"
      ],
      "text/plain": [
       "<IPython.core.display.Markdown object>"
      ]
     },
     "metadata": {},
     "output_type": "display_data"
    }
   ],
   "source": [
    "from IPython.display import display, Markdown, Latex\n",
    "md='''<img src=\"%s\",width=60,height=60>'''%(timestr + '.png')\n",
    "display(Markdown(md))"
   ]
  },
  {
   "cell_type": "code",
   "execution_count": null,
   "metadata": {
    "collapsed": true
   },
   "outputs": [],
   "source": []
  }
 ],
 "metadata": {
  "anaconda-cloud": {},
  "kernelspec": {
   "display_name": "Django Shell-Plus",
   "language": "python",
   "name": "django_extensions"
  },
  "language_info": {
   "codemirror_mode": {
    "name": "ipython",
    "version": 2
   },
   "file_extension": ".py",
   "mimetype": "text/x-python",
   "name": "python",
   "nbconvert_exporter": "python",
   "pygments_lexer": "ipython2",
   "version": "2.7.12"
  }
 },
 "nbformat": 4,
 "nbformat_minor": 1
}
