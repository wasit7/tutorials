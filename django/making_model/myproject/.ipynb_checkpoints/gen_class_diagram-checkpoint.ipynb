{
 "cells": [
  {
   "cell_type": "code",
   "execution_count": null,
   "metadata": {
    "collapsed": true
   },
   "outputs": [],
   "source": [
    "import fnmatch\n",
    "import os\n",
    "ROOT_PATH=os.path.abspath('.')\n",
    "cd=ROOT_PATH\n",
    "print \"cd %s\"%cd\n",
    "for f in os.listdir(cd):\n",
    "    if fnmatch.fnmatch(f, '*.sqlite3'):\n",
    "        print \"removing %s\"%(os.path.join(ROOT_PATH,f))\n",
    "        os.remove(os.path.join(cd,f))\n",
    "\n",
    "cd=os.path.join(ROOT_PATH,APP_NAME,\"migrations\")\n",
    "print \"cd %s\"%cd\n",
    "for f in os.listdir(cd):\n",
    "    if fnmatch.fnmatch(f, '*.pyc'):\n",
    "        print \"removing %s\"%(os.path.join(cd,f))\n",
    "        os.remove(os.path.join(cd,f))\n",
    "    elif fnmatch.fnmatch(f, '0*.py'):\n",
    "        print \"removing %s\"%(os.path.join(cd,f))\n",
    "        os.remove(os.path.join(cd,f))"
   ]
  },
  {
   "cell_type": "code",
   "execution_count": 2,
   "metadata": {
    "collapsed": false
   },
   "outputs": [
    {
     "ename": "CalledProcessError",
     "evalue": "Command '['C:\\\\Anaconda\\\\python.exe', 'C:\\\\Users\\\\Wasit\\\\Desktop\\\\testModel\\\\myproject\\\\manage.py', 'makemigrations', '--noinput']' returned non-zero exit status 3",
     "output_type": "error",
     "traceback": [
      "\u001b[0;31m---------------------------------------------------------------------------\u001b[0m",
      "\u001b[0;31mCalledProcessError\u001b[0m                        Traceback (most recent call last)",
      "\u001b[0;32m<ipython-input-2-86fc772a492f>\u001b[0m in \u001b[0;36m<module>\u001b[0;34m()\u001b[0m\n\u001b[1;32m      4\u001b[0m \u001b[0mROOT_PATH\u001b[0m\u001b[1;33m=\u001b[0m\u001b[0mos\u001b[0m\u001b[1;33m.\u001b[0m\u001b[0mpath\u001b[0m\u001b[1;33m.\u001b[0m\u001b[0mabspath\u001b[0m\u001b[1;33m(\u001b[0m\u001b[1;34m'.'\u001b[0m\u001b[1;33m)\u001b[0m\u001b[1;33m\u001b[0m\u001b[0m\n\u001b[1;32m      5\u001b[0m \u001b[0mmanage\u001b[0m \u001b[1;33m=\u001b[0m \u001b[0mos\u001b[0m\u001b[1;33m.\u001b[0m\u001b[0mpath\u001b[0m\u001b[1;33m.\u001b[0m\u001b[0mjoin\u001b[0m\u001b[1;33m(\u001b[0m\u001b[0mROOT_PATH\u001b[0m \u001b[1;33m,\u001b[0m \u001b[1;34m\"manage.py\"\u001b[0m\u001b[1;33m)\u001b[0m\u001b[1;33m\u001b[0m\u001b[0m\n\u001b[0;32m----> 6\u001b[0;31m \u001b[1;32mprint\u001b[0m \u001b[0msubprocess\u001b[0m\u001b[1;33m.\u001b[0m\u001b[0mcheck_output\u001b[0m\u001b[1;33m(\u001b[0m\u001b[1;33m[\u001b[0m\u001b[0msys\u001b[0m\u001b[1;33m.\u001b[0m\u001b[0mexecutable\u001b[0m\u001b[1;33m,\u001b[0m \u001b[0mmanage\u001b[0m\u001b[1;33m,\u001b[0m \u001b[1;34m\"makemigrations\"\u001b[0m\u001b[1;33m,\u001b[0m\u001b[1;34m\"--noinput\"\u001b[0m\u001b[1;33m]\u001b[0m\u001b[1;33m)\u001b[0m\u001b[1;33m\u001b[0m\u001b[0m\n\u001b[0m\u001b[1;32m      7\u001b[0m \u001b[1;32mprint\u001b[0m \u001b[0msubprocess\u001b[0m\u001b[1;33m.\u001b[0m\u001b[0mcheck_output\u001b[0m\u001b[1;33m(\u001b[0m\u001b[1;33m[\u001b[0m\u001b[0msys\u001b[0m\u001b[1;33m.\u001b[0m\u001b[0mexecutable\u001b[0m\u001b[1;33m,\u001b[0m \u001b[0mmanage\u001b[0m\u001b[1;33m,\u001b[0m \u001b[1;34m\"migrate\"\u001b[0m\u001b[1;33m,\u001b[0m\u001b[1;34m\"--noinput\"\u001b[0m\u001b[1;33m]\u001b[0m\u001b[1;33m)\u001b[0m\u001b[1;33m\u001b[0m\u001b[0m\n",
      "\u001b[0;32mC:\\Anaconda\\lib\\subprocess.pyc\u001b[0m in \u001b[0;36mcheck_output\u001b[0;34m(*popenargs, **kwargs)\u001b[0m\n\u001b[1;32m    572\u001b[0m         \u001b[1;32mif\u001b[0m \u001b[0mcmd\u001b[0m \u001b[1;32mis\u001b[0m \u001b[0mNone\u001b[0m\u001b[1;33m:\u001b[0m\u001b[1;33m\u001b[0m\u001b[0m\n\u001b[1;32m    573\u001b[0m             \u001b[0mcmd\u001b[0m \u001b[1;33m=\u001b[0m \u001b[0mpopenargs\u001b[0m\u001b[1;33m[\u001b[0m\u001b[1;36m0\u001b[0m\u001b[1;33m]\u001b[0m\u001b[1;33m\u001b[0m\u001b[0m\n\u001b[0;32m--> 574\u001b[0;31m         \u001b[1;32mraise\u001b[0m \u001b[0mCalledProcessError\u001b[0m\u001b[1;33m(\u001b[0m\u001b[0mretcode\u001b[0m\u001b[1;33m,\u001b[0m \u001b[0mcmd\u001b[0m\u001b[1;33m,\u001b[0m \u001b[0moutput\u001b[0m\u001b[1;33m=\u001b[0m\u001b[0moutput\u001b[0m\u001b[1;33m)\u001b[0m\u001b[1;33m\u001b[0m\u001b[0m\n\u001b[0m\u001b[1;32m    575\u001b[0m     \u001b[1;32mreturn\u001b[0m \u001b[0moutput\u001b[0m\u001b[1;33m\u001b[0m\u001b[0m\n\u001b[1;32m    576\u001b[0m \u001b[1;33m\u001b[0m\u001b[0m\n",
      "\u001b[0;31mCalledProcessError\u001b[0m: Command '['C:\\\\Anaconda\\\\python.exe', 'C:\\\\Users\\\\Wasit\\\\Desktop\\\\testModel\\\\myproject\\\\manage.py', 'makemigrations', '--noinput']' returned non-zero exit status 3"
     ]
    }
   ],
   "source": [
    "import os\n",
    "import sys\n",
    "import subprocess\n",
    "manage = os.path.join(ROOT_PATH , \"manage.py\")\n",
    "print subprocess.check_output([sys.executable, manage, \"makemigrations\",\"--noinput\"])\n",
    "print subprocess.check_output([sys.executable, manage, \"migrate\",\"--noinput\"])"
   ]
  },
  {
   "cell_type": "code",
   "execution_count": null,
   "metadata": {
    "collapsed": false
   },
   "outputs": [],
   "source": [
    "import pydot\n",
    "import time\n",
    "timestr = time.strftime(\"%y%m%d_%H%M%S\")\n",
    "\n",
    "dotstr=subprocess.check_output([sys.executable, manage, \"graph_models\", \"-a\"])\n",
    "#with  open(\"models.dot\",\"w\") as f:\n",
    "#    f.write(dotstr)\n",
    "#(graph,) = pydot.graph_from_dot_file('models.dot')\n",
    "(graph,) = pydot.graph_from_dot_data(dotstr)\n",
    "graph.write_png(timestr + '.png')"
   ]
  },
  {
   "cell_type": "code",
   "execution_count": null,
   "metadata": {
    "collapsed": false
   },
   "outputs": [],
   "source": [
    "from IPython.display import display, Markdown, Latex\n",
    "md='''<img src=\"%s\",width=60,height=60>'''%(timestr + '.png')\n",
    "display(Markdown(md))"
   ]
  },
  {
   "cell_type": "code",
   "execution_count": null,
   "metadata": {
    "collapsed": true
   },
   "outputs": [],
   "source": []
  }
 ],
 "metadata": {
  "anaconda-cloud": {},
  "kernelspec": {
   "display_name": "Django Shell-Plus",
   "language": "python",
   "name": "django_extensions"
  },
  "language_info": {
   "codemirror_mode": {
    "name": "ipython",
    "version": 2
   },
   "file_extension": ".py",
   "mimetype": "text/x-python",
   "name": "python",
   "nbconvert_exporter": "python",
   "pygments_lexer": "ipython2",
   "version": "2.7.12"
  }
 },
 "nbformat": 4,
 "nbformat_minor": 1
}
