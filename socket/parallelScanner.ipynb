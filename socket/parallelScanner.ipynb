{
 "cells": [
  {
   "cell_type": "code",
   "execution_count": null,
   "metadata": {
    "collapsed": false
   },
   "outputs": [],
   "source": [
    "from IPython.parallel import Client\n",
    "from IPython.parallel import require\n",
    "\n",
    "rc = Client()\n",
    "lv = rc.load_balanced_view()\n",
    "print \"Profile: %s\" % rc.profile\n",
    "print \"Engines: %s\" % len(lv)\n",
    "import socket as sc\n",
    "\n",
    "\n",
    "@lv.parallel(block=False)\n",
    "@require('socket')\n",
    "def portScan_parallel(port=20,targetIP=\"127.0.0.1\"):\n",
    "    import socket as sc\n",
    "    \n",
    "    s = sc.socket(sc.AF_INET, sc.SOCK_STREAM)\n",
    "    result = s.connect_ex((targetIP, port))\n",
    "    print result\n",
    "    s.close()\n",
    "    return result\n",
    "\n",
    "\n",
    "targetIP = sc.gethostbyname(\"192.168.1.1\")\n",
    "myrange=range(1024,1050)\n",
    "ports_parallel = portScan_parallel.map(\n",
    "    myrange,\n",
    "    [targetIP for i in myrange]\n",
    ")\n",
    "for i,p in enumerate(ports_parallel):\n",
    "    print \"port %5d: %4d\"% (myrange[i],p)\n",
    "#    if p==0:\n",
    "#        print \"port %d is open\"% myrange[i]"
   ]
  },
  {
   "cell_type": "code",
   "execution_count": 32,
   "metadata": {
    "collapsed": false
   },
   "outputs": [
    {
     "name": "stdout",
     "output_type": "stream",
     "text": [
      "0\n"
     ]
    }
   ],
   "source": [
    "s = sc.socket(sc.AF_INET, sc.SOCK_STREAM)\n",
    "result = s.connect_ex((\"192.168.1.1\", 80))\n",
    "print result"
   ]
  },
  {
   "cell_type": "code",
   "execution_count": 33,
   "metadata": {
    "collapsed": false
   },
   "outputs": [
    {
     "name": "stdout",
     "output_type": "stream",
     "text": [
      "None\n"
     ]
    }
   ],
   "source": [
    "print s.close()"
   ]
  },
  {
   "cell_type": "code",
   "execution_count": null,
   "metadata": {
    "collapsed": true
   },
   "outputs": [],
   "source": []
  }
 ],
 "metadata": {
  "kernelspec": {
   "display_name": "Python 2",
   "language": "python",
   "name": "python2"
  },
  "language_info": {
   "codemirror_mode": {
    "name": "ipython",
    "version": 2
   },
   "file_extension": ".py",
   "mimetype": "text/x-python",
   "name": "python",
   "nbconvert_exporter": "python",
   "pygments_lexer": "ipython2",
   "version": "2.7.11"
  }
 },
 "nbformat": 4,
 "nbformat_minor": 0
}
