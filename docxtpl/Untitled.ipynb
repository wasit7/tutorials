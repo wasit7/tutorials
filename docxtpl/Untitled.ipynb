{
 "cells": [
  {
   "cell_type": "code",
   "execution_count": 1,
   "metadata": {
    "collapsed": true
   },
   "outputs": [],
   "source": [
    "from docxtpl import DocxTemplate"
   ]
  },
  {
   "cell_type": "code",
   "execution_count": 11,
   "metadata": {
    "collapsed": false
   },
   "outputs": [],
   "source": [
    "doc = DocxTemplate(\"my_word_template.docx\")\n",
    "context = { \n",
    "            'company_name' : \"World company\",\n",
    "            'thai_name':u\"เวริด คอมปานี\",\n",
    "            'my_list':[\n",
    "                    {'name': u'ส้ม', 'price': u'3 บาท'},\n",
    "                    {'name': u'มะละกอ', 'price': u'5 บาท'},\n",
    "                ]\n",
    "            }\n",
    "doc.render(context)\n",
    "doc.save(\"generated_doc.docx\")"
   ]
  },
  {
   "cell_type": "code",
   "execution_count": null,
   "metadata": {
    "collapsed": true
   },
   "outputs": [],
   "source": []
  }
 ],
 "metadata": {
  "kernelspec": {
   "display_name": "Python [conda root]",
   "language": "python",
   "name": "conda-root-py"
  },
  "language_info": {
   "codemirror_mode": {
    "name": "ipython",
    "version": 2
   },
   "file_extension": ".py",
   "mimetype": "text/x-python",
   "name": "python",
   "nbconvert_exporter": "python",
   "pygments_lexer": "ipython2",
   "version": "2.7.12"
  }
 },
 "nbformat": 4,
 "nbformat_minor": 1
}
