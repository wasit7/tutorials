{
 "cells": [
  {
   "cell_type": "code",
   "execution_count": 131,
   "metadata": {
    "collapsed": false
   },
   "outputs": [],
   "source": [
    "import sqlalchemy as sa\n",
    "import pandas as pd\n",
    "engine = sa.create_engine('mysql+mysqldb://root:@173.194.227.84/weather')\n",
    "#pd.read_sql(sa.text('SELECT * FROM weather where Col_1=:col1'), engine, params={'col1': 'X'})\n",
    "df=pd.read_sql(sa.text('SELECT * FROM weather order by time desc limit 180000;'), engine)\n",
    "df.set_index('time',inplace='True')"
   ]
  },
  {
   "cell_type": "code",
   "execution_count": 132,
   "metadata": {
    "collapsed": false
   },
   "outputs": [
    {
     "name": "stdout",
     "output_type": "stream",
     "text": [
      "Considering a period from 2016-06-27 14:55:57 to 2016-07-07 14:55:57\n"
     ]
    }
   ],
   "source": [
    "from datetime import datetime, timedelta\n",
    "#final time\n",
    "tf=df.index[0]\n",
    "#init time\n",
    "ti=tf-timedelta(days=10)\n",
    "print \"Considering a period from {} to {}\".format(ti,tf)"
   ]
  },
  {
   "cell_type": "code",
   "execution_count": 133,
   "metadata": {
    "collapsed": false
   },
   "outputs": [
    {
     "name": "stdout",
     "output_type": "stream",
     "text": [
      "The shape of dataframe (241, 3)\n"
     ]
    }
   ],
   "source": [
    "df2=df[df.index>ti].resample('600s').interpolate().resample('3600s')\n",
    "print \"The shape of dataframe {}\".format(df2.shape)"
   ]
  },
  {
   "cell_type": "code",
   "execution_count": 134,
   "metadata": {
    "collapsed": false
   },
   "outputs": [
    {
     "data": {
      "text/plain": [
       "array([[  3.28000000e+01,   6.00450000e+01,   0.00000000e+00],\n",
       "       [  3.20447973e+01,   6.30496998e+01,   0.00000000e+00],\n",
       "       [  3.11824739e+01,   6.71289213e+01,   0.00000000e+00],\n",
       "       [  3.04079798e+01,   7.05359960e+01,   0.00000000e+00],\n",
       "       [  2.96602407e+01,   7.45173801e+01,   0.00000000e+00],\n",
       "       [  2.78274343e+01,   7.95034921e+01,   0.00000000e+00],\n",
       "       [  2.57797826e+01,   8.97242029e+01,   0.00000000e+00],\n",
       "       [  2.57793249e+01,   9.14250616e+01,   1.45833333e-01],\n",
       "       [  2.57438819e+01,   9.24676802e+01,   3.95833333e-01],\n",
       "       [  2.57084388e+01,   9.35102988e+01,   6.45833333e-01],\n",
       "       [  2.56729958e+01,   9.45529174e+01,   8.95833333e-01],\n",
       "       [  2.55194000e+01,   9.54669613e+01,   9.99389499e-01],\n",
       "       [  2.55354367e+01,   9.53923166e+01,   9.93284493e-01],\n",
       "       [  2.55655723e+01,   9.53191620e+01,   9.85958486e-01],\n",
       "       [  2.55957078e+01,   9.52460074e+01,   9.78632479e-01],\n",
       "       [  2.56258433e+01,   9.51728528e+01,   9.71306471e-01],\n",
       "       [  2.56559788e+01,   9.50996982e+01,   9.63980464e-01],\n",
       "       [  2.56861143e+01,   9.50265435e+01,   9.56654457e-01],\n",
       "       [  2.57162499e+01,   9.49533889e+01,   9.49328449e-01],\n",
       "       [  2.57463854e+01,   9.48802343e+01,   9.42002442e-01],\n",
       "       [  2.57765209e+01,   9.48070797e+01,   9.34676435e-01],\n",
       "       [  2.58066564e+01,   9.47339251e+01,   9.27350427e-01],\n",
       "       [  2.58367920e+01,   9.46607705e+01,   9.20024420e-01],\n",
       "       [  2.58669275e+01,   9.45876159e+01,   9.12698413e-01],\n",
       "       [  2.58970630e+01,   9.45144613e+01,   9.05372405e-01],\n",
       "       [  2.59271985e+01,   9.44413067e+01,   8.98046398e-01],\n",
       "       [  2.59573341e+01,   9.43681520e+01,   8.90720391e-01],\n",
       "       [  2.59874696e+01,   9.42949974e+01,   8.83394383e-01],\n",
       "       [  2.60176051e+01,   9.42218428e+01,   8.76068376e-01],\n",
       "       [  2.60477406e+01,   9.41486882e+01,   8.68742369e-01],\n",
       "       [  2.60778762e+01,   9.40755336e+01,   8.61416361e-01],\n",
       "       [  2.61080117e+01,   9.40023790e+01,   8.54090354e-01],\n",
       "       [  2.61381472e+01,   9.39292244e+01,   8.46764347e-01],\n",
       "       [  2.61682827e+01,   9.38560698e+01,   8.39438339e-01],\n",
       "       [  2.61984182e+01,   9.37829151e+01,   8.32112332e-01],\n",
       "       [  2.62285538e+01,   9.37097605e+01,   8.24786325e-01],\n",
       "       [  2.62586893e+01,   9.36366059e+01,   8.17460317e-01],\n",
       "       [  2.62888248e+01,   9.35634513e+01,   8.10134310e-01],\n",
       "       [  2.63189603e+01,   9.34902967e+01,   8.02808303e-01],\n",
       "       [  2.63490959e+01,   9.34171421e+01,   7.95482295e-01],\n",
       "       [  2.63792314e+01,   9.33439875e+01,   7.88156288e-01],\n",
       "       [  2.64093669e+01,   9.32708329e+01,   7.80830281e-01],\n",
       "       [  2.64395024e+01,   9.31976783e+01,   7.73504274e-01],\n",
       "       [  2.64696380e+01,   9.31245236e+01,   7.66178266e-01],\n",
       "       [  2.64997735e+01,   9.30513690e+01,   7.58852259e-01],\n",
       "       [  2.65299090e+01,   9.29782144e+01,   7.51526252e-01],\n",
       "       [  2.65600445e+01,   9.29050598e+01,   7.44200244e-01],\n",
       "       [  2.65901801e+01,   9.28319052e+01,   7.36874237e-01],\n",
       "       [  2.66203156e+01,   9.27587506e+01,   7.29548230e-01],\n",
       "       [  2.66504511e+01,   9.26855960e+01,   7.22222222e-01],\n",
       "       [  2.66805866e+01,   9.26124414e+01,   7.14896215e-01],\n",
       "       [  2.67107222e+01,   9.25392867e+01,   7.07570208e-01],\n",
       "       [  2.67408577e+01,   9.24661321e+01,   7.00244200e-01],\n",
       "       [  2.67709932e+01,   9.23929775e+01,   6.92918193e-01],\n",
       "       [  2.68011287e+01,   9.23198229e+01,   6.85592186e-01],\n",
       "       [  2.68312642e+01,   9.22466683e+01,   6.78266178e-01],\n",
       "       [  2.68613998e+01,   9.21735137e+01,   6.70940171e-01],\n",
       "       [  2.68915353e+01,   9.21003591e+01,   6.63614164e-01],\n",
       "       [  2.69216708e+01,   9.20272045e+01,   6.56288156e-01],\n",
       "       [  2.69518063e+01,   9.19540499e+01,   6.48962149e-01],\n",
       "       [  2.69819419e+01,   9.18808952e+01,   6.41636142e-01],\n",
       "       [  2.70120774e+01,   9.18077406e+01,   6.34310134e-01],\n",
       "       [  2.70422129e+01,   9.17345860e+01,   6.26984127e-01],\n",
       "       [  2.70723484e+01,   9.16614314e+01,   6.19658120e-01],\n",
       "       [  2.71024840e+01,   9.15882768e+01,   6.12332112e-01],\n",
       "       [  2.71326195e+01,   9.15151222e+01,   6.05006105e-01],\n",
       "       [  2.71627550e+01,   9.14419676e+01,   5.97680098e-01],\n",
       "       [  2.71928905e+01,   9.13688130e+01,   5.90354090e-01],\n",
       "       [  2.72230261e+01,   9.12956583e+01,   5.83028083e-01],\n",
       "       [  2.72531616e+01,   9.12225037e+01,   5.75702076e-01],\n",
       "       [  2.72832971e+01,   9.11493491e+01,   5.68376068e-01],\n",
       "       [  2.73134326e+01,   9.10761945e+01,   5.61050061e-01],\n",
       "       [  2.73435681e+01,   9.10030399e+01,   5.53724054e-01],\n",
       "       [  2.73737037e+01,   9.09298853e+01,   5.46398046e-01],\n",
       "       [  2.74038392e+01,   9.08567307e+01,   5.39072039e-01],\n",
       "       [  2.74339747e+01,   9.07835761e+01,   5.31746032e-01],\n",
       "       [  2.74641102e+01,   9.07104215e+01,   5.24420024e-01],\n",
       "       [  2.74942458e+01,   9.06372668e+01,   5.17094017e-01],\n",
       "       [  2.75243813e+01,   9.05641122e+01,   5.09768010e-01],\n",
       "       [  2.75545168e+01,   9.04909576e+01,   5.02442002e-01],\n",
       "       [  2.75846523e+01,   9.04178030e+01,   4.95115995e-01],\n",
       "       [  2.76147879e+01,   9.03446484e+01,   4.87789988e-01],\n",
       "       [  2.76449234e+01,   9.02714938e+01,   4.80463980e-01],\n",
       "       [  2.76750589e+01,   9.01983392e+01,   4.73137973e-01],\n",
       "       [  2.77051944e+01,   9.01251846e+01,   4.65811966e-01],\n",
       "       [  2.77353300e+01,   9.00520299e+01,   4.58485958e-01],\n",
       "       [  2.77654655e+01,   8.99788753e+01,   4.51159951e-01],\n",
       "       [  2.77956010e+01,   8.99057207e+01,   4.43833944e-01],\n",
       "       [  2.78257365e+01,   8.98325661e+01,   4.36507937e-01],\n",
       "       [  2.78558720e+01,   8.97594115e+01,   4.29181929e-01],\n",
       "       [  2.78860076e+01,   8.96862569e+01,   4.21855922e-01],\n",
       "       [  2.79161431e+01,   8.96131023e+01,   4.14529915e-01],\n",
       "       [  2.79462786e+01,   8.95399477e+01,   4.07203907e-01],\n",
       "       [  2.79764141e+01,   8.94667931e+01,   3.99877900e-01],\n",
       "       [  2.80065497e+01,   8.93936384e+01,   3.92551893e-01],\n",
       "       [  2.80366852e+01,   8.93204838e+01,   3.85225885e-01],\n",
       "       [  2.80668207e+01,   8.92473292e+01,   3.77899878e-01],\n",
       "       [  2.80969562e+01,   8.91741746e+01,   3.70573871e-01],\n",
       "       [  2.81270918e+01,   8.91010200e+01,   3.63247863e-01],\n",
       "       [  2.81572273e+01,   8.90278654e+01,   3.55921856e-01],\n",
       "       [  2.81873628e+01,   8.89547108e+01,   3.48595849e-01],\n",
       "       [  2.82174983e+01,   8.88815562e+01,   3.41269841e-01],\n",
       "       [  2.82476339e+01,   8.88084015e+01,   3.33943834e-01],\n",
       "       [  2.82777694e+01,   8.87352469e+01,   3.26617827e-01],\n",
       "       [  2.83079049e+01,   8.86620923e+01,   3.19291819e-01],\n",
       "       [  2.83380404e+01,   8.85889377e+01,   3.11965812e-01],\n",
       "       [  2.83681760e+01,   8.85157831e+01,   3.04639805e-01],\n",
       "       [  2.83983115e+01,   8.84426285e+01,   2.97313797e-01],\n",
       "       [  2.84284470e+01,   8.83694739e+01,   2.89987790e-01],\n",
       "       [  2.84585825e+01,   8.82963193e+01,   2.82661783e-01],\n",
       "       [  2.84887180e+01,   8.82231647e+01,   2.75335775e-01],\n",
       "       [  2.85188536e+01,   8.81500100e+01,   2.68009768e-01],\n",
       "       [  2.85489891e+01,   8.80768554e+01,   2.60683761e-01],\n",
       "       [  2.85791246e+01,   8.80037008e+01,   2.53357753e-01],\n",
       "       [  2.86092601e+01,   8.79305462e+01,   2.46031746e-01],\n",
       "       [  2.86393957e+01,   8.78573916e+01,   2.38705739e-01],\n",
       "       [  2.86695312e+01,   8.77842370e+01,   2.31379731e-01],\n",
       "       [  2.86996667e+01,   8.77110824e+01,   2.24053724e-01],\n",
       "       [  2.87298022e+01,   8.76379278e+01,   2.16727717e-01],\n",
       "       [  2.87599378e+01,   8.75647731e+01,   2.09401709e-01],\n",
       "       [  2.87900733e+01,   8.74916185e+01,   2.02075702e-01],\n",
       "       [  2.88202088e+01,   8.74184639e+01,   1.94749695e-01],\n",
       "       [  2.88503443e+01,   8.73453093e+01,   1.87423687e-01],\n",
       "       [  2.88804799e+01,   8.72721547e+01,   1.80097680e-01],\n",
       "       [  2.89106154e+01,   8.71990001e+01,   1.72771673e-01],\n",
       "       [  2.89407509e+01,   8.71258455e+01,   1.65445665e-01],\n",
       "       [  2.89708864e+01,   8.70526909e+01,   1.58119658e-01],\n",
       "       [  2.90010219e+01,   8.69795363e+01,   1.50793651e-01],\n",
       "       [  2.90311575e+01,   8.69063816e+01,   1.43467643e-01],\n",
       "       [  2.90612930e+01,   8.68332270e+01,   1.36141636e-01],\n",
       "       [  2.90914285e+01,   8.67600724e+01,   1.28815629e-01],\n",
       "       [  2.91215640e+01,   8.66869178e+01,   1.21489621e-01],\n",
       "       [  2.91516996e+01,   8.66137632e+01,   1.14163614e-01],\n",
       "       [  2.91818351e+01,   8.65406086e+01,   1.06837607e-01],\n",
       "       [  2.92119706e+01,   8.64674540e+01,   9.95115995e-02],\n",
       "       [  2.92421061e+01,   8.63942994e+01,   9.21855922e-02],\n",
       "       [  2.92722417e+01,   8.63211447e+01,   8.48595849e-02],\n",
       "       [  2.93023772e+01,   8.62479901e+01,   7.75335775e-02],\n",
       "       [  2.93325127e+01,   8.61748355e+01,   7.02075702e-02],\n",
       "       [  2.93626482e+01,   8.61016809e+01,   6.28815629e-02],\n",
       "       [  2.93927838e+01,   8.60285263e+01,   5.55555556e-02],\n",
       "       [  2.94229193e+01,   8.59553717e+01,   4.82295482e-02],\n",
       "       [  2.94530548e+01,   8.58822171e+01,   4.09035409e-02],\n",
       "       [  2.94831903e+01,   8.58090625e+01,   3.35775336e-02],\n",
       "       [  2.95133258e+01,   8.57359079e+01,   2.62515263e-02],\n",
       "       [  2.95434614e+01,   8.56627532e+01,   1.89255189e-02],\n",
       "       [  2.95735969e+01,   8.55895986e+01,   1.15995116e-02],\n",
       "       [  2.96037324e+01,   8.55164440e+01,   4.27350427e-03],\n",
       "       [  2.89291004e+01,   8.68754566e+01,   0.00000000e+00],\n",
       "       [  2.75444342e+01,   8.88962169e+01,   0.00000000e+00],\n",
       "       [  2.72881204e+01,   9.01109480e+01,   0.00000000e+00],\n",
       "       [  2.71907449e+01,   9.05430232e+01,   0.00000000e+00],\n",
       "       [  2.70742436e+01,   9.12548608e+01,   0.00000000e+00],\n",
       "       [  2.70760787e+01,   9.20219970e+01,   0.00000000e+00],\n",
       "       [  2.69656726e+01,   9.34719666e+01,   0.00000000e+00],\n",
       "       [  2.67572900e+01,   9.39788498e+01,   0.00000000e+00],\n",
       "       [  2.65051026e+01,   9.52039085e+01,   0.00000000e+00],\n",
       "       [  2.64628645e+01,   9.56762026e+01,   0.00000000e+00],\n",
       "       [  2.64112305e+01,   9.79958984e+01,   0.00000000e+00],\n",
       "       [  2.64119630e+01,   9.98890625e+01,   0.00000000e+00],\n",
       "       [  2.66689050e+01,   9.97209259e+01,   0.00000000e+00],\n",
       "       [  2.74579333e+01,   9.70398214e+01,   0.00000000e+00],\n",
       "       [  2.93572354e+01,   8.82367812e+01,   0.00000000e+00],\n",
       "       [  3.18278994e+01,   7.09948370e+01,   0.00000000e+00],\n",
       "       [  3.38192524e+01,   5.95374376e+01,   0.00000000e+00],\n",
       "       [  3.27132747e+01,   6.23757401e+01,   0.00000000e+00],\n",
       "       [  3.38145983e+01,   5.96227073e+01,   0.00000000e+00],\n",
       "       [  3.58378148e+01,   5.48591967e+01,   0.00000000e+00],\n",
       "       [  3.49887104e+01,   5.61320396e+01,   0.00000000e+00],\n",
       "       [  3.47758085e+01,   5.70762786e+01,   0.00000000e+00],\n",
       "       [  3.45032220e+01,   5.82944515e+01,   0.00000000e+00],\n",
       "       [  3.31660471e+01,   6.35162416e+01,   0.00000000e+00],\n",
       "       [  2.57816258e+01,   9.13303930e+01,   8.43387401e-01],\n",
       "       [  2.53286141e+01,   9.82826762e+01,   1.00000000e+00],\n",
       "       [  2.56268126e+01,   9.84075016e+01,   1.00000000e+00],\n",
       "       [  2.55740586e+01,   9.91426198e+01,   1.00000000e+00],\n",
       "       [  2.56921412e+01,   9.94860726e+01,   1.00000000e+00],\n",
       "       [  2.54291533e+01,   9.99000000e+01,   1.00000000e+00],\n",
       "       [  2.51710917e+01,   9.99000000e+01,   1.00000000e+00],\n",
       "       [  2.52056031e+01,   9.99000000e+01,   1.00000000e+00],\n",
       "       [  2.51896701e+01,   9.99000000e+01,   1.00000000e+00],\n",
       "       [  2.52577334e+01,   9.99000000e+01,   1.00000000e+00],\n",
       "       [  2.52984663e+01,   9.99000000e+01,   1.00000000e+00],\n",
       "       [  2.52850324e+01,   9.99000000e+01,   1.00000000e+00],\n",
       "       [  2.57014533e+01,   9.99000000e+01,   1.00000000e+00],\n",
       "       [  2.61433543e+01,   9.99000000e+01,   1.00000000e+00],\n",
       "       [  2.65333333e+01,   9.97833333e+01,   1.00000000e+00],\n",
       "       [  2.79659843e+01,   9.75463736e+01,   2.00564972e-01],\n",
       "       [  2.92652215e+01,   9.05816859e+01,   0.00000000e+00],\n",
       "       [  3.14936438e+01,   7.92785786e+01,   0.00000000e+00],\n",
       "       [  3.31526884e+01,   6.53524306e+01,   0.00000000e+00],\n",
       "       [  3.39352201e+01,   6.22124510e+01,   0.00000000e+00],\n",
       "       [  3.35637300e+01,   6.24068752e+01,   0.00000000e+00],\n",
       "       [  3.16640013e+01,   6.84395867e+01,   0.00000000e+00],\n",
       "       [  2.49384078e+01,   9.70992664e+01,   9.16666667e-01],\n",
       "       [  2.45899225e+01,   9.79235617e+01,   1.00000000e+00],\n",
       "       [  2.49199973e+01,   9.95904688e+01,   1.00000000e+00],\n",
       "       [  2.52298235e+01,   9.98267161e+01,   1.00000000e+00],\n",
       "       [  2.45950710e+01,   9.99000000e+01,   1.00000000e+00],\n",
       "       [  2.47805383e+01,   9.99000000e+01,   1.00000000e+00],\n",
       "       [  2.49133306e+01,   9.99000000e+01,   1.00000000e+00],\n",
       "       [  2.51539789e+01,   9.99000000e+01,   1.00000000e+00],\n",
       "       [  2.51639542e+01,   9.99000000e+01,   1.00000000e+00],\n",
       "       [  2.53187941e+01,   9.99000000e+01,   1.00000000e+00],\n",
       "       [  2.52145991e+01,   9.99000000e+01,   1.00000000e+00],\n",
       "       [  2.53159572e+01,   9.99000000e+01,   1.00000000e+00],\n",
       "       [  2.54628511e+01,   9.99000000e+01,   1.00000000e+00],\n",
       "       [  2.54050139e+01,   9.99000000e+01,   1.00000000e+00],\n",
       "       [  2.57478911e+01,   9.99000000e+01,   1.00000000e+00],\n",
       "       [  2.69572473e+01,   9.96075422e+01,   7.91666667e-01],\n",
       "       [  2.88573218e+01,   9.69156056e+01,   1.25000000e-01],\n",
       "       [  2.96515828e+01,   8.47004874e+01,   0.00000000e+00],\n",
       "       [  3.04022918e+01,   7.77883621e+01,   0.00000000e+00],\n",
       "       [  2.98297700e+01,   7.83283346e+01,   0.00000000e+00],\n",
       "       [  2.95819944e+01,   7.96051085e+01,   0.00000000e+00],\n",
       "       [  2.99572451e+01,   7.75006271e+01,   0.00000000e+00],\n",
       "       [  2.92441473e+01,   8.09742953e+01,   0.00000000e+00],\n",
       "       [  2.91458558e+01,   8.31807084e+01,   0.00000000e+00],\n",
       "       [  2.93201210e+01,   8.21557164e+01,   0.00000000e+00],\n",
       "       [  2.87418424e+01,   8.33939359e+01,   0.00000000e+00],\n",
       "       [  2.76846829e+01,   8.71038368e+01,   6.59897025e-01],\n",
       "       [  2.71686061e+01,   8.98811372e+01,   6.44139709e-01],\n",
       "       [  2.60562062e+01,   9.26736581e+01,   4.81984114e-01],\n",
       "       [  2.52269597e+01,   9.75702903e+01,   1.00000000e+00],\n",
       "       [  2.52389181e+01,   9.84776021e+01,   1.00000000e+00],\n",
       "       [  2.51707514e+01,   9.91049459e+01,   1.00000000e+00],\n",
       "       [  2.52093302e+01,   9.98323701e+01,   1.00000000e+00],\n",
       "       [  2.52406503e+01,   9.99000000e+01,   1.00000000e+00],\n",
       "       [  2.52990942e+01,   9.99000000e+01,   1.00000000e+00],\n",
       "       [  2.53114110e+01,   9.99000000e+01,   1.00000000e+00],\n",
       "       [  2.53765992e+01,   9.99000000e+01,   1.00000000e+00],\n",
       "       [  2.53191352e+01,   9.99000000e+01,   1.00000000e+00],\n",
       "       [  2.54723515e+01,   9.99000000e+01,   1.00000000e+00],\n",
       "       [  2.61012626e+01,   9.85318182e+01,   1.00000000e+00],\n",
       "       [  2.67891414e+01,   9.61863636e+01,   1.00000000e+00],\n",
       "       [  2.74770202e+01,   9.38409091e+01,   1.00000000e+00],\n",
       "       [  2.81648990e+01,   9.14954545e+01,   1.00000000e+00],\n",
       "       [  2.88527778e+01,   8.91500000e+01,   1.00000000e+00],\n",
       "       [  2.94670060e+01,   8.70688057e+01,   9.34397163e-01],\n",
       "       [  2.75699609e+01,   9.21798023e+01,   4.85347985e-01],\n",
       "       [  2.54298940e+01,   9.96550000e+01,   1.00000000e+00]])"
      ]
     },
     "execution_count": 134,
     "metadata": {},
     "output_type": "execute_result"
    }
   ],
   "source": [
    "df2.as_matrix(columns=['temp','humi','israin'])"
   ]
  },
  {
   "cell_type": "code",
   "execution_count": 135,
   "metadata": {
    "collapsed": false
   },
   "outputs": [
    {
     "data": {
      "text/plain": [
       "(0, 105)"
      ]
     },
     "execution_count": 135,
     "metadata": {},
     "output_type": "execute_result"
    },
    {
     "data": {
      "image/png": "[encoded data removed]",
      "text/plain": [
       "<matplotlib.figure.Figure at 0xe6752e8>"
      ]
     },
     "metadata": {},
     "output_type": "display_data"
    }
   ],
   "source": [
    "import matplotlib.pyplot as plt\n",
    "plt.style.use('ggplot')\n",
    "%matplotlib inline\n",
    "plt.rcParams['figure.figsize'] = (8,6)\n",
    "ax=df2.plot()\n",
    "ax.set_ylim([0, 105])"
   ]
  },
  {
   "cell_type": "code",
   "execution_count": 136,
   "metadata": {
    "collapsed": true
   },
   "outputs": [],
   "source": [
    "def getProb(_df,conditions):\n",
    "    p=[]\n",
    "    for c in conditions:\n",
    "        period=c['period']\n",
    "        criteria=c['criteria']\n",
    "        nmeet=df2.iloc[-period:].query(criteria).shape[1]\n",
    "        p.append(100.0*float(nmeet)/period)\n",
    "    return p"
   ]
  },
  {
   "cell_type": "raw",
   "metadata": {},
   "source": [
    "        Temp (°C)\tHumid (%)\tRain\tPeriod (h)\t\t\n",
    "#1.0\t25 - 30 \t70 - 75\t        0\t48\t\tใบจุดสีน้ำตาล Brow Spot Disease\n",
    "#1.1\t25 - 30\t    70 - 75\t        1\t36\t\t\n",
    "#1.2\t25 - 30 \t76 - 85       \t0\t36\t\t\n",
    "#1.3\t25 - 30 \t76 - 85       \t1\t30\t\t\n",
    "\t\t\t\t\t\t\n",
    "#2.0\t22 - 30\t    80 - 84       \t0\t60\t\tไหม้ Blast Disease\n",
    "#2.1\t22 - 30\t    80 - 84       \t1\t48\t\t\n",
    "\t\t\t\t\t\t\n",
    "\t\t\t\t\t\t\n",
    "#3.0\t25 - 34\t    85 - 95       \t0\t240\t\tใบขีดโปร่งแสง Bacterial Leaf Streak Disease\n",
    "#3.1\t25 - 34\t    85 - 95       \t1\t192\t\t\n",
    "\t\t\t\t\t\t\n",
    "#4.0\t25 - 30 \t70 - 75       \t0\t120\t\tเมล็ดด่าง Dirty Panicle Disease\n",
    "#4.1\t25 - 30\t    70 - 75       \t1\t100\t\t\n",
    "#4.2\t25 - 30 \t76 - 95       \t0\t100\t\t\n",
    "#4.3\t25 - 30\t    76 - 95       \t1\t98\t\t\n",
    "\t\t\t\t\t\t\n",
    "#5.1\t25 - 30 \t80 - 84       \t0\t96\t\tขอบใบแห้ง Bacterial Leaf Blight Disease\n",
    "#5.1\t25 - 30   \t80 - 84\t        1\t72\t\t"
   ]
  },
  {
   "cell_type": "code",
   "execution_count": 144,
   "metadata": {
    "collapsed": false
   },
   "outputs": [],
   "source": [
    "diseases=[\n",
    "    {\n",
    "        'Eng':'Brow Spot', \n",
    "        'Thai': 'ใบจุดสีน้ำตาล', \n",
    "        'conditions': [\n",
    "            {'period':48,'criteria': '25<temp and temp<=30 and 70<humi and humi<=75 and israin==0'},\n",
    "            {'period':36,'criteria': '25<temp and temp<=30 and 70<humi and humi<=75 and israin==1'},\n",
    "            {'period':36,'criteria': '25<temp and temp<=30 and 76<humi and humi<=85 and israin==0'},\n",
    "            {'period':30,'criteria': '25<temp and temp<=30 and 76<humi and humi<=85 and israin==1'},\n",
    "            ]\n",
    "    },\n",
    "    {\n",
    "        'Eng':'Blast', \n",
    "        'Thai': 'ไหม้', \n",
    "        'conditions': [\n",
    "            {'period':60,'criteria': '22<temp and temp<=30 and 80<humi and humi<=84 and israin==0'},\n",
    "            {'period':48,'criteria': '22<temp and temp<=30 and 80<humi and humi<=84 and israin==1'},\n",
    "            ]\n",
    "    },\n",
    "    {\n",
    "        'Eng':'Bacterial Leaf Streak', \n",
    "        'Thai': 'ใบขีดโปร่งแสง', \n",
    "        'conditions': [\n",
    "            {'period':240,'criteria': '25<temp and temp<=34 and 85<humi and humi<=95 and israin==0'},\n",
    "            {'period':192,'criteria': '25<temp and temp<=34 and 85<humi and humi<=95 and israin==1'},\n",
    "            ]\n",
    "    },\n",
    "    {\n",
    "        'Eng':'Dirty Panicle', \n",
    "        'Thai': 'เมล็ดด่าง', \n",
    "        'conditions': [\n",
    "            {'period':120,'criteria': '25<temp and temp<=30 and 70<humi and humi<=75 and israin==0'},\n",
    "            {'period':100,'criteria': '25<temp and temp<=30 and 70<humi and humi<=75 and israin==1'},\n",
    "            {'period':100,'criteria': '25<temp and temp<=30 and 76<humi and humi<=95 and israin==0'},\n",
    "            {'period':98,'criteria': '25<temp and temp<=30 and 76<humi and humi<=95 and israin==1'},\n",
    "            ]\n",
    "    },\n",
    "    {\n",
    "        'Eng':'Bacterial Leaf Blight', \n",
    "        'Thai': 'ขอบใบแห้ง', \n",
    "        'conditions': [\n",
    "            {'period':96,'criteria': '25<temp and temp<=30 and 80<humi and humi<=84 and israin==0'},\n",
    "            {'period':72,'criteria': '25<temp and temp<=30 and 80<humi and humi<=84 and israin==1'},\n",
    "            ]\n",
    "    },\n",
    "]\n"
   ]
  },
  {
   "cell_type": "code",
   "execution_count": 168,
   "metadata": {
    "collapsed": false
   },
   "outputs": [],
   "source": [
    "import json\n",
    "out=[]\n",
    "outstr=\"\"\n",
    "for i in diseases:\n",
    "    P=max(getProb(df2,i['conditions']))\n",
    "    out.append({\n",
    "            'Eng':i['Eng'],\n",
    "            'Thai':i['Thai'],\n",
    "            'P': P\n",
    "        })\n",
    "    outstr+=\"%5.1f%% %s<br>\"%( P , i['Eng'])\n",
    "\n",
    "outjs=json.dumps(out, ensure_ascii=False, sort_keys=True)\n",
    "#to read json.loads(outjs)"
   ]
  },
  {
   "cell_type": "code",
   "execution_count": 169,
   "metadata": {
    "collapsed": false
   },
   "outputs": [
    {
     "name": "stdout",
     "output_type": "stream",
     "text": [
      "[{\"Eng\": \"Brow Spot\", \"P\": 10.0, \"Thai\": \"ใบจุดสีน้ำตาล\"}, {\"Eng\": \"Blast\", \"P\": 6.25, \"Thai\": \"ไหม้\"}, {\"Eng\": \"Bacterial Leaf Streak\", \"P\": 1.5625, \"Thai\": \"ใบขีดโปร่งแสง\"}, {\"Eng\": \"Dirty Panicle\", \"P\": 3.061224489795918, \"Thai\": \"เมล็ดด่าง\"}, {\"Eng\": \"Bacterial Leaf Blight\", \"P\": 4.166666666666667, \"Thai\": \"ขอบใบแห้ง\"}]\n"
     ]
    }
   ],
   "source": [
    "print outjs"
   ]
  },
  {
   "cell_type": "code",
   "execution_count": 172,
   "metadata": {
    "collapsed": false
   },
   "outputs": [],
   "source": [
    "from datetime import datetime\n",
    "import pytz\n",
    "conn=engine.connect()\n",
    "ins='''insert into forecast values ('%s', '%s');'''%( datetime.now(pytz.timezone('Asia/Bangkok')).isoformat(), outjs)\n",
    "x=conn.execute(ins)\n"
   ]
  },
  {
   "cell_type": "code",
   "execution_count": 165,
   "metadata": {
    "collapsed": false
   },
   "outputs": [],
   "source": [
    "my_dict = {'Name': 'Daniel',  'Age': 22}\n",
    "name = my_dict.get('Names')\n",
    "age = my_dict.get('Age')"
   ]
  },
  {
   "cell_type": "code",
   "execution_count": 167,
   "metadata": {
    "collapsed": false
   },
   "outputs": [
    {
     "name": "stdout",
     "output_type": "stream",
     "text": [
      "None\n"
     ]
    }
   ],
   "source": [
    "print name"
   ]
  },
  {
   "cell_type": "code",
   "execution_count": null,
   "metadata": {
    "collapsed": true
   },
   "outputs": [],
   "source": []
  }
 ],
 "metadata": {
  "kernelspec": {
   "display_name": "Python 2",
   "language": "python",
   "name": "python2"
  },
  "language_info": {
   "codemirror_mode": {
    "name": "ipython",
    "version": 2
   },
   "file_extension": ".py",
   "mimetype": "text/x-python",
   "name": "python",
   "nbconvert_exporter": "python",
   "pygments_lexer": "ipython2",
   "version": "2.7.11"
  }
 },
 "nbformat": 4,
 "nbformat_minor": 0
}
