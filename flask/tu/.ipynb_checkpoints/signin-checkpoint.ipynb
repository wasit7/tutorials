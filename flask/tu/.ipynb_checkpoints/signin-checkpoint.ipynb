{
 "cells": [
  {
   "cell_type": "code",
   "execution_count": 7,
   "metadata": {
    "collapsed": false
   },
   "outputs": [
    {
     "name": "stdout",
     "output_type": "stream",
     "text": [
      "200 OK\n"
     ]
    }
   ],
   "source": [
    "import httplib, urllib\n",
    "params = urllib.urlencode({'username': 'admin', 'password': 'qwer12343'})\n",
    "headers = {\"Content-type\": \"application/x-www-form-urlencoded\",\n",
    "            \"Accept\": \"text/plain\"}\n",
    "#conn = httplib.HTTPConnection(\"http://localhost:5000/signin\")\n",
    "#conn.request(\"POST\", \"\", params, headers)\n",
    "\n",
    "conn = httplib.HTTPConnection(\"139.59.112.41\", port=5000)\n",
    "conn.request(\"POST\", \"signin\", params, headers)\n",
    "\n",
    "response = conn.getresponse()\n",
    "print response.status, response.reason\n",
    "data = response.read()\n",
    "data\n",
    "conn.close()"
   ]
  },
  {
   "cell_type": "code",
   "execution_count": null,
   "metadata": {
    "collapsed": true
   },
   "outputs": [],
   "source": []
  }
 ],
 "metadata": {
  "anaconda-cloud": {},
  "kernelspec": {
   "display_name": "Python [conda root]",
   "language": "python",
   "name": "conda-root-py"
  },
  "language_info": {
   "codemirror_mode": {
    "name": "ipython",
    "version": 2
   },
   "file_extension": ".py",
   "mimetype": "text/x-python",
   "name": "python",
   "nbconvert_exporter": "python",
   "pygments_lexer": "ipython2",
   "version": "2.7.12"
  }
 },
 "nbformat": 4,
 "nbformat_minor": 1
}
