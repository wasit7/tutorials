{
 "cells": [
  {
   "cell_type": "code",
   "execution_count": 11,
   "metadata": {
    "collapsed": false
   },
   "outputs": [
    {
     "name": "stdout",
     "output_type": "stream",
     "text": [
      "200 OK\n"
     ]
    }
   ],
   "source": [
    "import httplib, urllib\n",
    "params = urllib.urlencode({'username': 'admin', 'password': 'qwer12343'})\n",
    "headers = {\"Content-type\": \"application/x-www-form-urlencoded\",\n",
    "            \"Accept\": \"text/plain\"}\n",
    "\n",
    "conn = httplib.HTTPConnection(\"139.59.112.41\", port=5000)\n",
    "conn.request(\"POST\", \"signin\", params, headers)\n",
    "\n",
    "response = conn.getresponse()\n",
    "print response.status, response.reason\n",
    "data = response.read()\n",
    "data\n",
    "conn.close()"
   ]
  },
  {
   "cell_type": "code",
   "execution_count": 16,
   "metadata": {
    "collapsed": false
   },
   "outputs": [
    {
     "name": "stdout",
     "output_type": "stream",
     "text": [
      "100 loops, best of 3: 73.8 ms per loop\n"
     ]
    }
   ],
   "source": [
    "%%timeit -n100\n",
    "params = urllib.urlencode({'username': 'admin', 'password': 'qwer12343'})\n",
    "conn.request(\"POST\", \"signin\", params, headers)\n",
    "\n",
    "response = conn.getresponse()"
   ]
  },
  {
   "cell_type": "code",
   "execution_count": 18,
   "metadata": {
    "collapsed": false
   },
   "outputs": [
    {
     "data": {
      "text/plain": [
       "700.0000000000001"
      ]
     },
     "execution_count": 18,
     "metadata": {},
     "output_type": "execute_result"
    }
   ],
   "source": [
    "70e-3*10e3"
   ]
  },
  {
   "cell_type": "code",
   "execution_count": 19,
   "metadata": {
    "collapsed": false
   },
   "outputs": [
    {
     "data": {
      "text/plain": [
       "'username=admin&password=qwer12343'"
      ]
     },
     "execution_count": 19,
     "metadata": {},
     "output_type": "execute_result"
    }
   ],
   "source": [
    "params"
   ]
  },
  {
   "cell_type": "code",
   "execution_count": null,
   "metadata": {
    "collapsed": true
   },
   "outputs": [],
   "source": []
  }
 ],
 "metadata": {
  "anaconda-cloud": {},
  "kernelspec": {
   "display_name": "Python [conda root]",
   "language": "python",
   "name": "conda-root-py"
  },
  "language_info": {
   "codemirror_mode": {
    "name": "ipython",
    "version": 2
   },
   "file_extension": ".py",
   "mimetype": "text/x-python",
   "name": "python",
   "nbconvert_exporter": "python",
   "pygments_lexer": "ipython2",
   "version": "2.7.12"
  }
 },
 "nbformat": 4,
 "nbformat_minor": 1
}
