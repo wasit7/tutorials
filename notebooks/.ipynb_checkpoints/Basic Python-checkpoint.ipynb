{
 "cells": [
  {
   "cell_type": "markdown",
   "metadata": {},
   "source": [
    "##Intro\n",
    "This tutorial will cover some basic Python skills including numpy matplotlib and pickle mudules. Python has so many datatypes. However, there are three useful datatypes you need to known: tuple, list and dictionary."
   ]
  },
  {
   "cell_type": "code",
   "execution_count": 6,
   "metadata": {
    "collapsed": false
   },
   "outputs": [
    {
     "name": "stdout",
     "output_type": "stream",
     "text": [
      "7\n",
      "text\n",
      "i\n"
     ]
    }
   ],
   "source": [
    "mytuple=(7,\"text\",'i')\n",
    "print mytuple[0]\n",
    "print mytuple[1]\n",
    "print mytuple[2]"
   ]
  },
  {
   "cell_type": "code",
   "execution_count": 9,
   "metadata": {
    "collapsed": false
   },
   "outputs": [
    {
     "name": "stdout",
     "output_type": "stream",
     "text": [
      "[1, 2, 'text']\n",
      "text\n",
      "1\n",
      "2\n"
     ]
    }
   ],
   "source": [
    "mylist=[1,2]\n",
    "mylist.append(\"text\")\n",
    "print mylist\n",
    "print mylist.pop()\n",
    "print mylist.pop(0)\n",
    "print mylist.pop()"
   ]
  },
  {
   "cell_type": "code",
   "execution_count": 5,
   "metadata": {
    "collapsed": false
   },
   "outputs": [
    {
     "name": "stdout",
     "output_type": "stream",
     "text": [
      "value\n",
      "str\n",
      "123\n"
     ]
    }
   ],
   "source": [
    "mydict={\"key\":\"value\", 1:\"str\", \"word\":123}\n",
    "print mydict[\"key\"]\n",
    "print mydict[1]\n",
    "print mydict[\"word\"]"
   ]
  },
  {
   "cell_type": "code",
   "execution_count": null,
   "metadata": {
    "collapsed": true
   },
   "outputs": [],
   "source": []
  }
 ],
 "metadata": {
  "kernelspec": {
   "display_name": "Python 2",
   "language": "python",
   "name": "python2"
  },
  "language_info": {
   "codemirror_mode": {
    "name": "ipython",
    "version": 2
   },
   "file_extension": ".py",
   "mimetype": "text/x-python",
   "name": "python",
   "nbconvert_exporter": "python",
   "pygments_lexer": "ipython2",
   "version": "2.7.8"
  }
 },
 "nbformat": 4,
 "nbformat_minor": 0
}
