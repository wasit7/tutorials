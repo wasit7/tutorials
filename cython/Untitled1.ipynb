{
 "cells": [
  {
   "cell_type": "code",
   "execution_count": 62,
   "metadata": {
    "collapsed": false
   },
   "outputs": [],
   "source": [
    "%reload_ext Cython"
   ]
  },
  {
   "cell_type": "code",
   "execution_count": 66,
   "metadata": {
    "collapsed": true
   },
   "outputs": [],
   "source": [
    "%%cython\n",
    "import numpy as np\n",
    "cimport numpy as np\n",
    "import cython\n",
    "class myclass(object):\n",
    "    def myfunct(self,object[double, ndim=1] V1, object[double, ndim=1] V2,object[double, ndim=1] V3, object[double, ndim=1] O,object[double, ndim=1] D):\n",
    "        cdef float EPSILON = 0.000001\n",
    "        e1 = np.subtract(V2,V1)\n",
    "        e2 = np.subtract(V3,V1)\n",
    "        P = np.cross(D, e2)\n",
    "        det = np.dot(e1, P)\n",
    "        if det > -EPSILON and det < EPSILON : return 0, 0\n",
    "        inv_det = float(1.0)/det\n",
    "        T = np.subtract(O, V1)\n",
    "        u = round(np.dot(T, P) * inv_det, 6)\n",
    "        if u < 0.0 or u > 1.0 : return 0, 0\n",
    "        Q = np.cross(T, e1)\n",
    "        v = round(np.dot(D, Q) * inv_det, 6)\n",
    "        if v < 0.0 or (u + v)  > 1.0 : return 0, 0\n",
    "        t = np.dot(e2, Q) * inv_det\n",
    "        if t > EPSILON :\n",
    "            return t, det\n",
    "        return 0, 0"
   ]
  },
  {
   "cell_type": "code",
   "execution_count": 67,
   "metadata": {
    "collapsed": true
   },
   "outputs": [],
   "source": [
    "V1 = np.array([0.0,0.0,-1.0])\n",
    "V2 = np.array([0.0,0.0,1.0])\n",
    "V3 = np.array([0.0,1.0,0.0])\n",
    "p0 = [-1.0,0.5,0.0]\n",
    "p1 = [1.0,0.5,0.0]\n",
    "O = np.array(p0)\n",
    "D = np.subtract(p1,p0)"
   ]
  },
  {
   "cell_type": "code",
   "execution_count": 68,
   "metadata": {
    "collapsed": false
   },
   "outputs": [
    {
     "name": "stdout",
     "output_type": "stream",
     "text": [
      "1 loop, best of 3: 131 µs per loop\n"
     ]
    }
   ],
   "source": [
    "%%timeit -n1\n",
    "s=myclass()\n",
    "myfunct(V1, V2, V3, O, D)\n",
    "#myfunct()"
   ]
  },
  {
   "cell_type": "code",
   "execution_count": null,
   "metadata": {
    "collapsed": true
   },
   "outputs": [],
   "source": []
  },
  {
   "cell_type": "code",
   "execution_count": null,
   "metadata": {
    "collapsed": true
   },
   "outputs": [],
   "source": []
  }
 ],
 "metadata": {
  "kernelspec": {
   "display_name": "Python [conda root]",
   "language": "python",
   "name": "conda-root-py"
  },
  "language_info": {
   "codemirror_mode": {
    "name": "ipython",
    "version": 2
   },
   "file_extension": ".py",
   "mimetype": "text/x-python",
   "name": "python",
   "nbconvert_exporter": "python",
   "pygments_lexer": "ipython2",
   "version": "2.7.12"
  }
 },
 "nbformat": 4,
 "nbformat_minor": 1
}
